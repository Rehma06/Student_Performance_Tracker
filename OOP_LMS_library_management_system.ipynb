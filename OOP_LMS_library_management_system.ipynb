{
  "nbformat": 4,
  "nbformat_minor": 0,
  "metadata": {
    "colab": {
      "provenance": [],
      "gpuType": "T4"
    },
    "kernelspec": {
      "name": "python3",
      "display_name": "Python 3"
    },
    "language_info": {
      "name": "python"
    },
    "accelerator": "GPU"
  },
  "cells": [
    {
      "cell_type": "code",
      "execution_count": null,
      "metadata": {
        "id": "fiA8WN4mbppD"
      },
      "outputs": [],
      "source": [
        "# Creating a student class\n",
        "class Student:\n",
        "\n",
        "# Creating a function to store students name and scores in subjects\n",
        "    def __init__(self, name, score):\n",
        "        self.name = name\n",
        "        self.score = score\n",
        "\n",
        "# Creating a function to calculate average of scores\n",
        "    def calculate_average(self):\n",
        "        try:\n",
        "          total = sum(self.score.values())\n",
        "          average = total / len(self.score)\n",
        "          return average\n",
        "        except TypeError:\n",
        "            print(\"Error: Scores must be numerical values.\")\n",
        "            return None\n",
        "        except ZeroDivisionError:\n",
        "            print(\"Error: Cannot calculate average with zero subjects.\")\n",
        "            return None\n",
        "\n",
        "# Creating a function to check is the student passing or not\n",
        "    def pass_fail(self):\n",
        "        average = self.calculate_average()\n",
        "        if average is not None and average >= 40:\n",
        "            return \"Pass\"\n",
        "        else:\n",
        "            return \"Fail\""
      ]
    },
    {
      "cell_type": "code",
      "source": [
        "# Creating a performance tracker class\n",
        "class Performance_Tracker(Student):\n",
        "\n",
        "# Creating a function to store student names in a dictionary student\n",
        "  def __init__(self):\n",
        "    self.students = []\n",
        "\n",
        "# Creating a function to add students\n",
        "  def add_student(self, student):\n",
        "    if isinstance(student, Student):\n",
        "      self.students.append(student)\n",
        "    else:\n",
        "      print(\"Error: Input must have to be a student name.\")\n",
        "\n",
        "# Creating a function to calculate class average\n",
        "  def calculate_class_average(self):\n",
        "    total_average = 0\n",
        "    try:\n",
        "        for student in self.students:\n",
        "                average = student.calculate_average()\n",
        "                if average is not None:\n",
        "                    total_average += average\n",
        "        return total_average / len(self.students) if self.students else 0\n",
        "    except ZeroDivisionError:\n",
        "          print(\"Error: There are no students in class.\")\n",
        "          return 0\n",
        "\n",
        "# Creating a function to display students performance\n",
        "  def display_student_performance(self):\n",
        "      for student in self.students:\n",
        "          print(\"Name:\", student.name)\n",
        "          print(\"Score 1:\", student.score1)\n",
        "          print(\"Score 2:\", student.score2)\n",
        "          print(\"Score 3:\", student.score3)\n",
        "          average = student.calculate_average()\n",
        "          if average is not None:\n",
        "            print(\"Average:\", average)\n",
        "          if student.is_passing():\n",
        "            print(\"Status: Passing\")\n",
        "          else:\n",
        "            print(\"Status: Failing\")\n",
        "          print(\"-\" * 20)"
      ],
      "metadata": {
        "id": "j1YsEPGwkd8G"
      },
      "execution_count": null,
      "outputs": []
    }
  ]
}